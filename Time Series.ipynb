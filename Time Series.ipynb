{
 "cells": [
  {
   "cell_type": "markdown",
   "metadata": {},
   "source": [
    "# Proactive Policing Time Series\n",
    "__Loren Atherley\n",
    "__\n",
    "__&\n",
    "__Carl Sharpe"
   ]
  },
  {
   "cell_type": "code",
   "execution_count": 1,
   "metadata": {},
   "outputs": [],
   "source": [
    "%matplotlib inline"
   ]
  },
  {
   "cell_type": "code",
   "execution_count": 2,
   "metadata": {},
   "outputs": [
    {
     "data": {
      "text/html": [
       "<style>.container { width:100% !important; }</style>"
      ],
      "text/plain": [
       "<IPython.core.display.HTML object>"
      ]
     },
     "metadata": {},
     "output_type": "display_data"
    }
   ],
   "source": [
    "from IPython.display import HTML, display\n",
    "display(HTML(\"<style>.container { width:100% !important; }</style>\")) "
   ]
  },
  {
   "cell_type": "code",
   "execution_count": 3,
   "metadata": {},
   "outputs": [],
   "source": [
    "from datetime import datetime\n",
    "import json\n",
    "import parser\n",
    "import pandas as pd\n",
    "import numpy as np\n",
    "import matplotlib.pyplot as pyplot\n",
    "import dateutil\n",
    "from dateutil import parser\n",
    "import re \n",
    "import sys"
   ]
  },
  {
   "cell_type": "markdown",
   "metadata": {},
   "source": [
    "# Prepare Data"
   ]
  },
  {
   "cell_type": "markdown",
   "metadata": {},
   "source": [
    "Load Raw Data"
   ]
  },
  {
   "cell_type": "code",
   "execution_count": 4,
   "metadata": {
    "scrolled": true
   },
   "outputs": [],
   "source": [
    "crimes = pd.read_csv(\"Crime_Data.csv\")\n",
    "calls = pd.read_csv(\"Call_Data.csv\")"
   ]
  },
  {
   "cell_type": "code",
   "execution_count": 5,
   "metadata": {},
   "outputs": [],
   "source": [
    "crimecat = pd.read_csv('CrimesCat.csv') # Load Translation Data for Crime Categories"
   ]
  },
  {
   "cell_type": "markdown",
   "metadata": {},
   "source": [
    "Parse Dates & Append to New DF"
   ]
  },
  {
   "cell_type": "code",
   "execution_count": 6,
   "metadata": {},
   "outputs": [],
   "source": [
    "#month = []\n",
    "#day = []\n",
    "#year = []\n",
    "\n",
    "#for i in range (0, len(crimes)):\n",
    "    #this_date = str(crimes['Occurred Date'][i])\n",
    "    #month.append(this_date[:2])\n",
    "    #day.append(this_date[3:5])\n",
    "    #year.append(this_date[6:10])\n",
    "\n",
    "    #sys.stdout.write(\"\\r\" + \"Parsing Dates.. Processing Record: \" + str(i) + \" of \" + str(len(crimes)))\n",
    "    #sys.stdout.flush() "
   ]
  },
  {
   "cell_type": "code",
   "execution_count": 7,
   "metadata": {
    "scrolled": false
   },
   "outputs": [],
   "source": [
    "#crimes['Occured Year'] = year\n",
    "#crimes['Occured Day'] = day\n",
    "#crimes['Occured Month'] = month"
   ]
  },
  {
   "cell_type": "code",
   "execution_count": 8,
   "metadata": {},
   "outputs": [],
   "source": [
    "#crimes.to_csv('CrimesWPDates.csv')"
   ]
  },
  {
   "cell_type": "code",
   "execution_count": 9,
   "metadata": {},
   "outputs": [],
   "source": [
    "#month = []\n",
    "#day = []\n",
    "#year = []\n",
    "\n",
    "#for i in range (0, len(calls)):\n",
    "    #this_date = str(calls['Original Time Queued'][i])\n",
    "    #month.append(this_date[:2])\n",
    "    #day.append(this_date[3:5])\n",
    "    #year.append(this_date[6:10])\n",
    "\n",
    "    #sys.stdout.write(\"\\r\" + \"Parsing Dates.. Processing Record: \" + str(i) + \" of \" + str(len(calls)))\n",
    "    #sys.stdout.flush() "
   ]
  },
  {
   "cell_type": "code",
   "execution_count": 10,
   "metadata": {
    "scrolled": false
   },
   "outputs": [],
   "source": [
    "#calls['OTC Year'] = year\n",
    "#calls['OTC Day'] = day\n",
    "#calls['OTC Month'] = month"
   ]
  },
  {
   "cell_type": "code",
   "execution_count": 11,
   "metadata": {},
   "outputs": [],
   "source": [
    "#calls.to_csv('CallsWPDates.csv')"
   ]
  },
  {
   "cell_type": "markdown",
   "metadata": {},
   "source": [
    "Load Data With Parsed Dates"
   ]
  },
  {
   "cell_type": "code",
   "execution_count": 12,
   "metadata": {},
   "outputs": [],
   "source": [
    "crimes_wpd = pd.read_csv('CrimesWPDates.csv', low_memory=False)\n",
    "calls_wpd = pd.read_csv('CallsWPDates.csv', low_memory=False)"
   ]
  },
  {
   "cell_type": "markdown",
   "metadata": {},
   "source": [
    "Join Crime Category"
   ]
  },
  {
   "cell_type": "code",
   "execution_count": 13,
   "metadata": {},
   "outputs": [],
   "source": [
    "crimes_wpd.set_index('Primary Offense Description').join(crimecat.set_index('CRIME_DESCRIPTION'))\n",
    "crimes_wpd.to_csv('crimes_for_pivot.csv')"
   ]
  },
  {
   "cell_type": "markdown",
   "metadata": {},
   "source": []
  },
  {
   "cell_type": "code",
   "execution_count": 14,
   "metadata": {},
   "outputs": [],
   "source": [
    "#crimes_wpd.set_index('Report Number')\n",
    "#crimes_wpd.groupby(['Occured Year','Occured Month', 'Occured Day','CRIME_GROUP']).count()\n",
    "crimes_4p = pd.read_csv('crimes_for_pivot.csv', low_memory = False)\n",
    "crimes_piv = crimes_4p.groupby(['Occured Year']).count().reset_index()"
   ]
  },
  {
   "cell_type": "code",
   "execution_count": 15,
   "metadata": {},
   "outputs": [
    {
     "data": {
      "text/html": [
       "<div>\n",
       "<style scoped>\n",
       "    .dataframe tbody tr th:only-of-type {\n",
       "        vertical-align: middle;\n",
       "    }\n",
       "\n",
       "    .dataframe tbody tr th {\n",
       "        vertical-align: top;\n",
       "    }\n",
       "\n",
       "    .dataframe thead th {\n",
       "        text-align: right;\n",
       "    }\n",
       "</style>\n",
       "<table border=\"1\" class=\"dataframe\">\n",
       "  <thead>\n",
       "    <tr style=\"text-align: right;\">\n",
       "      <th></th>\n",
       "      <th>Occured Year</th>\n",
       "      <th>Unnamed: 0</th>\n",
       "      <th>Unnamed: 0.1</th>\n",
       "      <th>Report Number</th>\n",
       "      <th>Occurred Date</th>\n",
       "      <th>Occurred Time</th>\n",
       "      <th>Reported Date</th>\n",
       "      <th>Reported Time</th>\n",
       "      <th>Crime Subcategory</th>\n",
       "      <th>Primary Offense Description</th>\n",
       "      <th>Precinct</th>\n",
       "      <th>Sector</th>\n",
       "      <th>Beat</th>\n",
       "      <th>Neighborhood</th>\n",
       "      <th>Occured Day</th>\n",
       "      <th>Occured Month</th>\n",
       "    </tr>\n",
       "  </thead>\n",
       "  <tbody>\n",
       "    <tr>\n",
       "      <th>0</th>\n",
       "      <td>1908.0</td>\n",
       "      <td>1</td>\n",
       "      <td>1</td>\n",
       "      <td>1</td>\n",
       "      <td>1</td>\n",
       "      <td>1</td>\n",
       "      <td>1</td>\n",
       "      <td>1</td>\n",
       "      <td>1</td>\n",
       "      <td>1</td>\n",
       "      <td>1</td>\n",
       "      <td>1</td>\n",
       "      <td>1</td>\n",
       "      <td>1</td>\n",
       "      <td>1</td>\n",
       "      <td>1</td>\n",
       "    </tr>\n",
       "    <tr>\n",
       "      <th>1</th>\n",
       "      <td>1964.0</td>\n",
       "      <td>1</td>\n",
       "      <td>1</td>\n",
       "      <td>1</td>\n",
       "      <td>1</td>\n",
       "      <td>1</td>\n",
       "      <td>1</td>\n",
       "      <td>1</td>\n",
       "      <td>1</td>\n",
       "      <td>1</td>\n",
       "      <td>1</td>\n",
       "      <td>1</td>\n",
       "      <td>1</td>\n",
       "      <td>1</td>\n",
       "      <td>1</td>\n",
       "      <td>1</td>\n",
       "    </tr>\n",
       "    <tr>\n",
       "      <th>2</th>\n",
       "      <td>1973.0</td>\n",
       "      <td>1</td>\n",
       "      <td>1</td>\n",
       "      <td>1</td>\n",
       "      <td>1</td>\n",
       "      <td>1</td>\n",
       "      <td>1</td>\n",
       "      <td>1</td>\n",
       "      <td>1</td>\n",
       "      <td>1</td>\n",
       "      <td>1</td>\n",
       "      <td>1</td>\n",
       "      <td>1</td>\n",
       "      <td>1</td>\n",
       "      <td>1</td>\n",
       "      <td>1</td>\n",
       "    </tr>\n",
       "    <tr>\n",
       "      <th>3</th>\n",
       "      <td>1974.0</td>\n",
       "      <td>1</td>\n",
       "      <td>1</td>\n",
       "      <td>1</td>\n",
       "      <td>1</td>\n",
       "      <td>1</td>\n",
       "      <td>1</td>\n",
       "      <td>1</td>\n",
       "      <td>1</td>\n",
       "      <td>1</td>\n",
       "      <td>1</td>\n",
       "      <td>0</td>\n",
       "      <td>0</td>\n",
       "      <td>1</td>\n",
       "      <td>1</td>\n",
       "      <td>1</td>\n",
       "    </tr>\n",
       "    <tr>\n",
       "      <th>4</th>\n",
       "      <td>1975.0</td>\n",
       "      <td>2</td>\n",
       "      <td>2</td>\n",
       "      <td>2</td>\n",
       "      <td>2</td>\n",
       "      <td>2</td>\n",
       "      <td>2</td>\n",
       "      <td>2</td>\n",
       "      <td>2</td>\n",
       "      <td>2</td>\n",
       "      <td>2</td>\n",
       "      <td>1</td>\n",
       "      <td>1</td>\n",
       "      <td>2</td>\n",
       "      <td>2</td>\n",
       "      <td>2</td>\n",
       "    </tr>\n",
       "  </tbody>\n",
       "</table>\n",
       "</div>"
      ],
      "text/plain": [
       "   Occured Year  Unnamed: 0  Unnamed: 0.1  Report Number  Occurred Date  \\\n",
       "0        1908.0           1             1              1              1   \n",
       "1        1964.0           1             1              1              1   \n",
       "2        1973.0           1             1              1              1   \n",
       "3        1974.0           1             1              1              1   \n",
       "4        1975.0           2             2              2              2   \n",
       "\n",
       "   Occurred Time  Reported Date  Reported Time  Crime Subcategory  \\\n",
       "0              1              1              1                  1   \n",
       "1              1              1              1                  1   \n",
       "2              1              1              1                  1   \n",
       "3              1              1              1                  1   \n",
       "4              2              2              2                  2   \n",
       "\n",
       "   Primary Offense Description  Precinct  Sector  Beat  Neighborhood  \\\n",
       "0                            1         1       1     1             1   \n",
       "1                            1         1       1     1             1   \n",
       "2                            1         1       1     1             1   \n",
       "3                            1         1       0     0             1   \n",
       "4                            2         2       1     1             2   \n",
       "\n",
       "   Occured Day  Occured Month  \n",
       "0            1              1  \n",
       "1            1              1  \n",
       "2            1              1  \n",
       "3            1              1  \n",
       "4            2              2  "
      ]
     },
     "execution_count": 15,
     "metadata": {},
     "output_type": "execute_result"
    }
   ],
   "source": [
    "crimes_piv.head()"
   ]
  }
 ],
 "metadata": {
  "kernelspec": {
   "display_name": "Python 3",
   "language": "python",
   "name": "python3"
  },
  "language_info": {
   "codemirror_mode": {
    "name": "ipython",
    "version": 3
   },
   "file_extension": ".py",
   "mimetype": "text/x-python",
   "name": "python",
   "nbconvert_exporter": "python",
   "pygments_lexer": "ipython3",
   "version": "3.6.5"
  }
 },
 "nbformat": 4,
 "nbformat_minor": 2
}
