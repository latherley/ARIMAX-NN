{
 "cells": [
  {
   "cell_type": "markdown",
   "metadata": {},
   "source": [
    "# Proactive Policing Time Series\n",
    "__Loren Atherley\n",
    "__\n",
    "__&\n",
    "__Carl Sharpe"
   ]
  },
  {
   "cell_type": "code",
   "execution_count": 1,
   "metadata": {},
   "outputs": [],
   "source": [
    "%matplotlib inline"
   ]
  },
  {
   "cell_type": "code",
   "execution_count": 2,
   "metadata": {},
   "outputs": [
    {
     "data": {
      "text/html": [
       "<style>.container { width:100% !important; }</style>"
      ],
      "text/plain": [
       "<IPython.core.display.HTML object>"
      ]
     },
     "metadata": {},
     "output_type": "display_data"
    }
   ],
   "source": [
    "from IPython.display import HTML, display\n",
    "display(HTML(\"<style>.container { width:100% !important; }</style>\")) "
   ]
  },
  {
   "cell_type": "code",
   "execution_count": 3,
   "metadata": {},
   "outputs": [],
   "source": [
    "from datetime import datetime\n",
    "import json\n",
    "import parser\n",
    "import pandas as pd\n",
    "import numpy as np\n",
    "import matplotlib.pyplot as pyplot\n",
    "import dateutil\n",
    "from dateutil import parser\n",
    "import re \n",
    "import sys"
   ]
  },
  {
   "cell_type": "markdown",
   "metadata": {},
   "source": [
    "# Prepare Data"
   ]
  },
  {
   "cell_type": "markdown",
   "metadata": {},
   "source": [
    "Load Raw Data"
   ]
  },
  {
   "cell_type": "code",
   "execution_count": 4,
   "metadata": {
    "scrolled": true
   },
   "outputs": [],
   "source": [
    "crimes = pd.read_csv(\"Crime_Data.csv\")\n",
    "calls = pd.read_csv(\"Call_Data.csv\")"
   ]
  },
  {
   "cell_type": "code",
   "execution_count": 5,
   "metadata": {},
   "outputs": [],
   "source": [
    "crimecat = pd.read_csv('CrimesCat.csv') # Load Translation Data for Crime Categories"
   ]
  },
  {
   "cell_type": "markdown",
   "metadata": {},
   "source": [
    "Parse Dates & Append to New DF"
   ]
  },
  {
   "cell_type": "code",
   "execution_count": 6,
   "metadata": {},
   "outputs": [],
   "source": [
    "#month = []\n",
    "#day = []\n",
    "#year = []\n",
    "\n",
    "#for i in range (0, len(crimes)):\n",
    "    #this_date = str(crimes['Occurred Date'][i])\n",
    "    #month.append(this_date[:2])\n",
    "    #day.append(this_date[3:5])\n",
    "    #year.append(this_date[6:10])\n",
    "\n",
    "    #sys.stdout.write(\"\\r\" + \"Parsing Dates.. Processing Record: \" + str(i) + \" of \" + str(len(crimes)))\n",
    "    #sys.stdout.flush() "
   ]
  },
  {
   "cell_type": "code",
   "execution_count": 7,
   "metadata": {
    "scrolled": false
   },
   "outputs": [],
   "source": [
    "#crimes['Occured Year'] = year\n",
    "#crimes['Occured Day'] = day\n",
    "#crimes['Occured Month'] = month"
   ]
  },
  {
   "cell_type": "code",
   "execution_count": 8,
   "metadata": {},
   "outputs": [],
   "source": [
    "#crimes.to_csv('CrimesWPDates.csv')"
   ]
  },
  {
   "cell_type": "code",
   "execution_count": 9,
   "metadata": {},
   "outputs": [],
   "source": [
    "#month = []\n",
    "#day = []\n",
    "#year = []\n",
    "\n",
    "#for i in range (0, len(calls)):\n",
    "    #this_date = str(calls['Original Time Queued'][i])\n",
    "    #month.append(this_date[:2])\n",
    "    #day.append(this_date[3:5])\n",
    "    #year.append(this_date[6:10])\n",
    "\n",
    "    #sys.stdout.write(\"\\r\" + \"Parsing Dates.. Processing Record: \" + str(i) + \" of \" + str(len(calls)))\n",
    "    #sys.stdout.flush() "
   ]
  },
  {
   "cell_type": "code",
   "execution_count": 10,
   "metadata": {
    "scrolled": false
   },
   "outputs": [],
   "source": [
    "#calls['OTC Year'] = year\n",
    "#calls['OTC Day'] = day\n",
    "#calls['OTC Month'] = month"
   ]
  },
  {
   "cell_type": "code",
   "execution_count": 11,
   "metadata": {},
   "outputs": [],
   "source": [
    "#calls.to_csv('CallsWPDates.csv')"
   ]
  },
  {
   "cell_type": "markdown",
   "metadata": {},
   "source": [
    "Load Data With Parsed Dates"
   ]
  },
  {
   "cell_type": "code",
   "execution_count": 12,
   "metadata": {},
   "outputs": [],
   "source": [
    "crimes_wpd = pd.read_csv('CrimesWPDates.csv', low_memory=False)\n",
    "calls_wpd = pd.read_csv('CallsWPDates.csv', low_memory=False)"
   ]
  },
  {
   "cell_type": "markdown",
   "metadata": {},
   "source": [
    "Join Crime Category"
   ]
  },
  {
   "cell_type": "code",
   "execution_count": 16,
   "metadata": {},
   "outputs": [],
   "source": [
    "crimes_wpd.set_index('Primary Offense Description').join(crimecat.set_index('CRIME_DESCRIPTION'))\n",
    "crimes_wpd.to_csv('crimes_for_pivot.csv')"
   ]
  },
  {
   "cell_type": "markdown",
   "metadata": {},
   "source": []
  },
  {
   "cell_type": "code",
   "execution_count": 22,
   "metadata": {},
   "outputs": [
    {
     "name": "stdout",
     "output_type": "stream",
     "text": [
      "    Occured Year  Unnamed: 0  Unnamed: 0.1  Report Number  Occurred Date  \\\n",
      "0         1908.0           1             1              1              1   \n",
      "1         1964.0           1             1              1              1   \n",
      "2         1973.0           1             1              1              1   \n",
      "3         1974.0           1             1              1              1   \n",
      "4         1975.0           2             2              2              2   \n",
      "5         1976.0           2             2              2              2   \n",
      "6         1977.0           1             1              1              1   \n",
      "7         1978.0           1             1              1              1   \n",
      "8         1979.0           2             2              2              2   \n",
      "9         1980.0           2             2              2              2   \n",
      "10        1981.0           2             2              2              2   \n",
      "11        1985.0           2             2              2              2   \n",
      "12        1986.0           1             1              1              1   \n",
      "13        1987.0           1             1              1              1   \n",
      "14        1988.0           1             1              1              1   \n",
      "15        1989.0           1             1              1              1   \n",
      "16        1990.0           2             2              2              2   \n",
      "17        1991.0           2             2              2              2   \n",
      "18        1993.0           5             5              5              5   \n",
      "19        1994.0           2             2              2              2   \n",
      "20        1995.0           6             6              6              6   \n",
      "21        1996.0           4             4              4              4   \n",
      "22        1997.0           5             5              5              5   \n",
      "23        1998.0          20            20             20             20   \n",
      "24        1999.0           8             8              8              8   \n",
      "25        2000.0          41            41             41             41   \n",
      "26        2001.0          53            53             53             53   \n",
      "27        2002.0          16            16             16             16   \n",
      "28        2003.0          28            28             28             28   \n",
      "29        2004.0          40            40             40             40   \n",
      "30        2005.0          49            49             49             49   \n",
      "31        2006.0          97            97             97             97   \n",
      "32        2007.0         627           627            627            627   \n",
      "33        2008.0       42793         42793          42793          42793   \n",
      "34        2009.0       45057         45057          45057          45057   \n",
      "35        2010.0       43347         43347          43347          43347   \n",
      "36        2011.0       41293         41293          41293          41293   \n",
      "37        2012.0       41000         41000          41000          41000   \n",
      "38        2013.0       45548         45548          45548          45548   \n",
      "39        2014.0       49308         49308          49308          49308   \n",
      "40        2015.0       47681         47681          47681          47681   \n",
      "41        2016.0       49197         49197          49197          49197   \n",
      "42        2017.0       50270         50270          50270          50270   \n",
      "43        2018.0       23257         23257          23257          23257   \n",
      "\n",
      "    Occurred Time  Reported Date  Reported Time  Crime Subcategory  \\\n",
      "0               1              1              1                  1   \n",
      "1               1              1              1                  1   \n",
      "2               1              1              1                  1   \n",
      "3               1              1              1                  1   \n",
      "4               2              2              2                  2   \n",
      "5               2              2              2                  2   \n",
      "6               1              1              1                  1   \n",
      "7               1              1              1                  1   \n",
      "8               2              2              2                  2   \n",
      "9               2              2              2                  2   \n",
      "10              2              2              2                  2   \n",
      "11              2              2              2                  2   \n",
      "12              1              1              1                  1   \n",
      "13              1              1              1                  1   \n",
      "14              1              1              1                  1   \n",
      "15              1              1              1                  1   \n",
      "16              2              2              2                  2   \n",
      "17              2              2              2                  2   \n",
      "18              5              5              5                  5   \n",
      "19              2              2              2                  2   \n",
      "20              6              6              6                  6   \n",
      "21              4              4              4                  4   \n",
      "22              5              5              5                  5   \n",
      "23             20             20             20                 20   \n",
      "24              8              8              8                  8   \n",
      "25             41             41             41                 41   \n",
      "26             53             53             53                 53   \n",
      "27             16             16             16                 16   \n",
      "28             28             28             28                 28   \n",
      "29             40             40             40                 40   \n",
      "30             49             49             49                 49   \n",
      "31             97             97             97                 97   \n",
      "32            627            627            627                627   \n",
      "33          42793          42793          42793              42607   \n",
      "34          45057          45057          45057              45015   \n",
      "35          43347          43347          43347              43317   \n",
      "36          41293          41293          41293              41289   \n",
      "37          41000          41000          41000              41000   \n",
      "38          45548          45548          45548              45548   \n",
      "39          49308          49308          49308              49308   \n",
      "40          47681          47681          47681              47681   \n",
      "41          49197          49197          49197              49197   \n",
      "42          50270          50270          50270              50270   \n",
      "43          23257          23257          23257              23257   \n",
      "\n",
      "    Primary Offense Description  Precinct  Sector   Beat  Neighborhood  \\\n",
      "0                             1         1       1      1             1   \n",
      "1                             1         1       1      1             1   \n",
      "2                             1         1       1      1             1   \n",
      "3                             1         1       0      0             1   \n",
      "4                             2         2       1      1             2   \n",
      "5                             2         2       0      0             2   \n",
      "6                             1         1       0      0             1   \n",
      "7                             1         1       1      1             1   \n",
      "8                             2         2       2      2             2   \n",
      "9                             2         2       1      1             2   \n",
      "10                            2         2       2      2             2   \n",
      "11                            2         2       1      1             2   \n",
      "12                            1         1       1      1             1   \n",
      "13                            1         1       0      0             1   \n",
      "14                            1         1       1      1             1   \n",
      "15                            1         1       1      1             1   \n",
      "16                            2         2       0      0             2   \n",
      "17                            2         2       2      2             2   \n",
      "18                            5         5       5      5             5   \n",
      "19                            2         2       2      2             2   \n",
      "20                            6         6       5      5             6   \n",
      "21                            4         4       3      3             4   \n",
      "22                            5         5       3      3             5   \n",
      "23                           20        20      18     18            20   \n",
      "24                            8         8       5      5             8   \n",
      "25                           41        41      33     33            41   \n",
      "26                           53        53      49     49            53   \n",
      "27                           16        16      14     14            16   \n",
      "28                           28        28      25     25            28   \n",
      "29                           40        40      35     35            40   \n",
      "30                           49        49      40     40            49   \n",
      "31                           97        97      90     90            97   \n",
      "32                          627       627     601    601           627   \n",
      "33                        42793     42791   42453  42459         42793   \n",
      "34                        45057     45056   44775  44784         45057   \n",
      "35                        43347     43347   43058  43064         43347   \n",
      "36                        41293     41293   41018  41028         41293   \n",
      "37                        41000     41000   40760  40769         41000   \n",
      "38                        45548     45548   45259  45258         45548   \n",
      "39                        49308     49308   49087  49090         49308   \n",
      "40                        47681     47681   47480  47480         47681   \n",
      "41                        49197     49196   48938  48940         49197   \n",
      "42                        50270     50269   49898  49901         50270   \n",
      "43                        23257     23257   23113  23114         23257   \n",
      "\n",
      "    Occured Day  Occured Month  \n",
      "0             1              1  \n",
      "1             1              1  \n",
      "2             1              1  \n",
      "3             1              1  \n",
      "4             2              2  \n",
      "5             2              2  \n",
      "6             1              1  \n",
      "7             1              1  \n",
      "8             2              2  \n",
      "9             2              2  \n",
      "10            2              2  \n",
      "11            2              2  \n",
      "12            1              1  \n",
      "13            1              1  \n",
      "14            1              1  \n",
      "15            1              1  \n",
      "16            2              2  \n",
      "17            2              2  \n",
      "18            5              5  \n",
      "19            2              2  \n",
      "20            6              6  \n",
      "21            4              4  \n",
      "22            5              5  \n",
      "23           20             20  \n",
      "24            8              8  \n",
      "25           41             41  \n",
      "26           53             53  \n",
      "27           16             16  \n",
      "28           28             28  \n",
      "29           40             40  \n",
      "30           49             49  \n",
      "31           97             97  \n",
      "32          627            627  \n",
      "33        42793          42793  \n",
      "34        45057          45057  \n",
      "35        43347          43347  \n",
      "36        41293          41293  \n",
      "37        41000          41000  \n",
      "38        45548          45548  \n",
      "39        49308          49308  \n",
      "40        47681          47681  \n",
      "41        49197          49197  \n",
      "42        50270          50270  \n",
      "43        23257          23257  \n"
     ]
    }
   ],
   "source": [
    "#crimes_wpd.set_index('Report Number')\n",
    "#crimes_wpd.groupby(['Occured Year','Occured Month', 'Occured Day','CRIME_GROUP']).count()\n",
    "crimes_4p = pd.read_csv('crimes_for_pivot.csv', low_memory = False)\n",
    "crimes_piv = crimes_4p.groupby(['Occured Year']).count().reset_index()"
   ]
  }
 ],
 "metadata": {
  "kernelspec": {
   "display_name": "Python 3",
   "language": "python",
   "name": "python3"
  },
  "language_info": {
   "codemirror_mode": {
    "name": "ipython",
    "version": 3
   },
   "file_extension": ".py",
   "mimetype": "text/x-python",
   "name": "python",
   "nbconvert_exporter": "python",
   "pygments_lexer": "ipython3",
   "version": "3.6.5"
  }
 },
 "nbformat": 4,
 "nbformat_minor": 2
}
