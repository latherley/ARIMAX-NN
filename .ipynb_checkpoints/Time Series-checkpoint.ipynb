{
 "cells": [
  {
   "cell_type": "markdown",
   "metadata": {},
   "source": [
    "# Proactive Policing Time Series\n",
    "__Loren Atherley\n",
    "__\n",
    "__&\n",
    "__Carl Sharpe"
   ]
  },
  {
   "cell_type": "code",
   "execution_count": 1,
   "metadata": {},
   "outputs": [],
   "source": [
    "%matplotlib inline"
   ]
  },
  {
   "cell_type": "code",
   "execution_count": 2,
   "metadata": {},
   "outputs": [
    {
     "data": {
      "text/html": [
       "<style>.container { width:100% !important; }</style>"
      ],
      "text/plain": [
       "<IPython.core.display.HTML object>"
      ]
     },
     "metadata": {},
     "output_type": "display_data"
    }
   ],
   "source": [
    "from IPython.display import HTML, display\n",
    "display(HTML(\"<style>.container { width:100% !important; }</style>\")) "
   ]
  },
  {
   "cell_type": "code",
   "execution_count": 3,
   "metadata": {},
   "outputs": [],
   "source": [
    "from datetime import datetime\n",
    "import json\n",
    "import parser\n",
    "import pandas as pd\n",
    "import numpy as np\n",
    "import matplotlib.pyplot as pyplot\n",
    "import dateutil\n",
    "from dateutil import parser\n",
    "import re \n",
    "import sys"
   ]
  },
  {
   "cell_type": "code",
   "execution_count": 4,
   "metadata": {
    "scrolled": true
   },
   "outputs": [],
   "source": [
    "crimes = pd.read_csv(\"Crime_Data.csv\")\n",
    "calls = pd.read_csv(\"Call_Data.csv\")"
   ]
  },
  {
   "cell_type": "code",
   "execution_count": 5,
   "metadata": {},
   "outputs": [
    {
     "data": {
      "text/html": [
       "<div>\n",
       "<style scoped>\n",
       "    .dataframe tbody tr th:only-of-type {\n",
       "        vertical-align: middle;\n",
       "    }\n",
       "\n",
       "    .dataframe tbody tr th {\n",
       "        vertical-align: top;\n",
       "    }\n",
       "\n",
       "    .dataframe thead th {\n",
       "        text-align: right;\n",
       "    }\n",
       "</style>\n",
       "<table border=\"1\" class=\"dataframe\">\n",
       "  <thead>\n",
       "    <tr style=\"text-align: right;\">\n",
       "      <th></th>\n",
       "      <th>Report Number</th>\n",
       "      <th>Occurred Date</th>\n",
       "      <th>Occurred Time</th>\n",
       "      <th>Reported Date</th>\n",
       "      <th>Reported Time</th>\n",
       "      <th>Crime Subcategory</th>\n",
       "      <th>Primary Offense Description</th>\n",
       "      <th>Precinct</th>\n",
       "      <th>Sector</th>\n",
       "      <th>Beat</th>\n",
       "      <th>Neighborhood</th>\n",
       "    </tr>\n",
       "  </thead>\n",
       "  <tbody>\n",
       "    <tr>\n",
       "      <th>0</th>\n",
       "      <td>20080000465209</td>\n",
       "      <td>12/13/1908</td>\n",
       "      <td>2114.0</td>\n",
       "      <td>12/13/2008</td>\n",
       "      <td>2114.0</td>\n",
       "      <td>DUI</td>\n",
       "      <td>DUI-LIQUOR</td>\n",
       "      <td>EAST</td>\n",
       "      <td>G</td>\n",
       "      <td>G2</td>\n",
       "      <td>CENTRAL AREA/SQUIRE PARK</td>\n",
       "    </tr>\n",
       "    <tr>\n",
       "      <th>1</th>\n",
       "      <td>20100000202011</td>\n",
       "      <td>06/15/1964</td>\n",
       "      <td>0.0</td>\n",
       "      <td>06/15/2010</td>\n",
       "      <td>1031.0</td>\n",
       "      <td>FAMILY OFFENSE-NONVIOLENT</td>\n",
       "      <td>CHILD-OTHER</td>\n",
       "      <td>WEST</td>\n",
       "      <td>Q</td>\n",
       "      <td>Q2</td>\n",
       "      <td>QUEEN ANNE</td>\n",
       "    </tr>\n",
       "    <tr>\n",
       "      <th>2</th>\n",
       "      <td>2012000023437</td>\n",
       "      <td>01/01/1973</td>\n",
       "      <td>0.0</td>\n",
       "      <td>01/25/2012</td>\n",
       "      <td>1048.0</td>\n",
       "      <td>SEX OFFENSE-OTHER</td>\n",
       "      <td>SEXOFF-OTHER</td>\n",
       "      <td>NORTH</td>\n",
       "      <td>N</td>\n",
       "      <td>N2</td>\n",
       "      <td>NORTHGATE</td>\n",
       "    </tr>\n",
       "    <tr>\n",
       "      <th>3</th>\n",
       "      <td>20130000327785</td>\n",
       "      <td>06/01/1974</td>\n",
       "      <td>0.0</td>\n",
       "      <td>09/09/2013</td>\n",
       "      <td>1117.0</td>\n",
       "      <td>SEX OFFENSE-OTHER</td>\n",
       "      <td>SEXOFF-OTHER</td>\n",
       "      <td>UNKNOWN</td>\n",
       "      <td>NaN</td>\n",
       "      <td>NaN</td>\n",
       "      <td>UNKNOWN</td>\n",
       "    </tr>\n",
       "    <tr>\n",
       "      <th>4</th>\n",
       "      <td>20160000289384</td>\n",
       "      <td>01/01/1975</td>\n",
       "      <td>0.0</td>\n",
       "      <td>08/11/2016</td>\n",
       "      <td>1054.0</td>\n",
       "      <td>SEX OFFENSE-OTHER</td>\n",
       "      <td>SEXOFF-OTHER</td>\n",
       "      <td>UNKNOWN</td>\n",
       "      <td>NaN</td>\n",
       "      <td>NaN</td>\n",
       "      <td>UNKNOWN</td>\n",
       "    </tr>\n",
       "  </tbody>\n",
       "</table>\n",
       "</div>"
      ],
      "text/plain": [
       "    Report Number Occurred Date  Occurred Time Reported Date  Reported Time  \\\n",
       "0  20080000465209    12/13/1908         2114.0    12/13/2008         2114.0   \n",
       "1  20100000202011    06/15/1964            0.0    06/15/2010         1031.0   \n",
       "2   2012000023437    01/01/1973            0.0    01/25/2012         1048.0   \n",
       "3  20130000327785    06/01/1974            0.0    09/09/2013         1117.0   \n",
       "4  20160000289384    01/01/1975            0.0    08/11/2016         1054.0   \n",
       "\n",
       "           Crime Subcategory Primary Offense Description Precinct Sector Beat  \\\n",
       "0                        DUI                  DUI-LIQUOR     EAST      G   G2   \n",
       "1  FAMILY OFFENSE-NONVIOLENT                 CHILD-OTHER     WEST      Q   Q2   \n",
       "2          SEX OFFENSE-OTHER                SEXOFF-OTHER    NORTH      N   N2   \n",
       "3          SEX OFFENSE-OTHER                SEXOFF-OTHER  UNKNOWN    NaN  NaN   \n",
       "4          SEX OFFENSE-OTHER                SEXOFF-OTHER  UNKNOWN    NaN  NaN   \n",
       "\n",
       "               Neighborhood  \n",
       "0  CENTRAL AREA/SQUIRE PARK  \n",
       "1                QUEEN ANNE  \n",
       "2                 NORTHGATE  \n",
       "3                   UNKNOWN  \n",
       "4                   UNKNOWN  "
      ]
     },
     "metadata": {},
     "output_type": "display_data"
    }
   ],
   "source": [
    "display(crimes.head())"
   ]
  },
  {
   "cell_type": "code",
   "execution_count": null,
   "metadata": {},
   "outputs": [],
   "source": [
    "CrimeDate = pd.to_datetime(crimes['Occured Date'], format = '%Y%m%d %H:%m:%s', errors = 'ignore')\n",
    "CallDate = pd.to_datetime(calls['Original Time Queued'], format = '%Y%m%d %H%m%s', errors = 'ignore')"
   ]
  },
  {
   "cell_type": "code",
   "execution_count": null,
   "metadata": {},
   "outputs": [],
   "source": [
    "type('CallDate')"
   ]
  },
  {
   "cell_type": "code",
   "execution_count": null,
   "metadata": {
    "scrolled": false
   },
   "outputs": [],
   "source": [
    "CallDate.head()"
   ]
  },
  {
   "cell_type": "code",
   "execution_count": null,
   "metadata": {
    "scrolled": true
   },
   "outputs": [],
   "source": [
    "len(calls)"
   ]
  },
  {
   "cell_type": "code",
   "execution_count": null,
   "metadata": {},
   "outputs": [],
   "source": [
    "month = []\n",
    "day = []\n",
    "year = []\n",
    "\n",
    "for i in range (0, len(crimes)):\n",
    "    this_date = str(crimes['Occured Date'][0])\n",
    "    month.append(this_date[:2])\n",
    "    day.append(this_date[3:5])\n",
    "    year.append(this_date[6:10])\n",
    "\n",
    "    sys.stdout.write(\"\\r\" + \"Parsing Dates.. Processing Record: \" + str(i) + \" of \" + str(len(crimes)))\n",
    "    sys.stdout.flush() "
   ]
  },
  {
   "cell_type": "code",
   "execution_count": null,
   "metadata": {},
   "outputs": [],
   "source": [
    "#month = []\n",
    "#day = []\n",
    "#year = []\n",
    "\n",
    "#for i in range (0, len(calls)):\n",
    "    this_date = str(calls['Original Time Queued'][0])\n",
    "    month.append(this_date[:2])\n",
    "    day.append(this_date[3:5])\n",
    "    year.append(this_date[6:10])\n",
    "\n",
    "    sys.stdout.write(\"\\r\" + \"Parsing Dates.. Processing Record: \" + str(i) + \" of \" + str(len(calls)))\n",
    "    sys.stdout.flush() "
   ]
  },
  {
   "cell_type": "code",
   "execution_count": null,
   "metadata": {
    "scrolled": true
   },
   "outputs": [],
   "source": [
    "parsed_dates = pd.DataFrame({'month': this_date, 'day': this_date, 'year': this_date}, index = [1])\n",
    "parsed_dates.head()"
   ]
  }
 ],
 "metadata": {
  "kernelspec": {
   "display_name": "Python 2",
   "language": "python",
   "name": "python2"
  },
  "language_info": {
   "codemirror_mode": {
    "name": "ipython",
    "version": 2
   },
   "file_extension": ".py",
   "mimetype": "text/x-python",
   "name": "python",
   "nbconvert_exporter": "python",
   "pygments_lexer": "ipython2",
   "version": "2.7.15"
  }
 },
 "nbformat": 4,
 "nbformat_minor": 2
}
