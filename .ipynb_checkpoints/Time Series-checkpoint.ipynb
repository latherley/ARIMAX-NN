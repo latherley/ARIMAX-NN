{
 "cells": [
  {
   "cell_type": "markdown",
   "metadata": {},
   "source": [
    "# Proactive Policing Time Series\n",
    "__Loren Atherley\n",
    "__\n",
    "__&\n",
    "__Carl Sharpe"
   ]
  },
  {
   "cell_type": "code",
   "execution_count": 1,
   "metadata": {},
   "outputs": [],
   "source": [
    "%matplotlib inline"
   ]
  },
  {
   "cell_type": "code",
   "execution_count": 2,
   "metadata": {},
   "outputs": [
    {
     "data": {
      "text/html": [
       "<style>.container { width:100% !important; }</style>"
      ],
      "text/plain": [
       "<IPython.core.display.HTML object>"
      ]
     },
     "metadata": {},
     "output_type": "display_data"
    }
   ],
   "source": [
    "from IPython.display import HTML, display\n",
    "display(HTML(\"<style>.container { width:100% !important; }</style>\")) "
   ]
  },
  {
   "cell_type": "code",
   "execution_count": 3,
   "metadata": {},
   "outputs": [],
   "source": [
    "from datetime import datetime\n",
    "import json\n",
    "import parser\n",
    "import pandas as pd\n",
    "import numpy as np\n",
    "import matplotlib.pyplot as pyplot\n",
    "import dateutil\n",
    "from dateutil import parser\n",
    "import re \n",
    "import sys"
   ]
  },
  {
   "cell_type": "markdown",
   "metadata": {},
   "source": [
    "# Prepare Data"
   ]
  },
  {
   "cell_type": "markdown",
   "metadata": {},
   "source": [
    "Load Raw Data"
   ]
  },
  {
   "cell_type": "code",
   "execution_count": 4,
   "metadata": {
    "scrolled": true
   },
   "outputs": [],
   "source": [
    "crimes = pd.read_csv(\"Crime_Data.csv\")\n",
    "calls = pd.read_csv(\"Call_Data.csv\")"
   ]
  },
  {
   "cell_type": "code",
   "execution_count": 5,
   "metadata": {},
   "outputs": [],
   "source": [
    "crimecat = pd.read_csv('CrimesCat.csv') # Load Translation Data for Crime Categories"
   ]
  },
  {
   "cell_type": "markdown",
   "metadata": {},
   "source": [
    "Parse Dates & Append to New DF"
   ]
  },
  {
   "cell_type": "code",
   "execution_count": 6,
   "metadata": {},
   "outputs": [],
   "source": [
    "#month = []\n",
    "#day = []\n",
    "#year = []\n",
    "\n",
    "#for i in range (0, len(crimes)):\n",
    "    #this_date = str(crimes['Occurred Date'][i])\n",
    "    #month.append(this_date[:2])\n",
    "    #day.append(this_date[3:5])\n",
    "    #year.append(this_date[6:10])\n",
    "\n",
    "    #sys.stdout.write(\"\\r\" + \"Parsing Dates.. Processing Record: \" + str(i) + \" of \" + str(len(crimes)))\n",
    "    #sys.stdout.flush() "
   ]
  },
  {
   "cell_type": "code",
   "execution_count": 7,
   "metadata": {
    "scrolled": false
   },
   "outputs": [],
   "source": [
    "#crimes['Occured Year'] = year\n",
    "#crimes['Occured Day'] = day\n",
    "#crimes['Occured Month'] = month"
   ]
  },
  {
   "cell_type": "code",
   "execution_count": 8,
   "metadata": {},
   "outputs": [],
   "source": [
    "#crimes.to_csv('CrimesWPDates.csv')"
   ]
  },
  {
   "cell_type": "code",
   "execution_count": 9,
   "metadata": {},
   "outputs": [],
   "source": [
    "#month = []\n",
    "#day = []\n",
    "#year = []\n",
    "\n",
    "#for i in range (0, len(calls)):\n",
    "    #this_date = str(calls['Original Time Queued'][i])\n",
    "    #month.append(this_date[:2])\n",
    "    #day.append(this_date[3:5])\n",
    "    #year.append(this_date[6:10])\n",
    "\n",
    "    #sys.stdout.write(\"\\r\" + \"Parsing Dates.. Processing Record: \" + str(i) + \" of \" + str(len(calls)))\n",
    "    #sys.stdout.flush() "
   ]
  },
  {
   "cell_type": "code",
   "execution_count": 10,
   "metadata": {
    "scrolled": false
   },
   "outputs": [],
   "source": [
    "#calls['OTC Year'] = year\n",
    "#calls['OTC Day'] = day\n",
    "#calls['OTC Month'] = month"
   ]
  },
  {
   "cell_type": "code",
   "execution_count": 11,
   "metadata": {},
   "outputs": [],
   "source": [
    "#calls.to_csv('CallsWPDates.csv')"
   ]
  },
  {
   "cell_type": "markdown",
   "metadata": {},
   "source": [
    "Load Data With Parsed Dates"
   ]
  },
  {
   "cell_type": "code",
   "execution_count": 12,
   "metadata": {},
   "outputs": [],
   "source": [
    "crimes_wpd = pd.read_csv('CrimesWPDates.csv', low_memory=False)\n",
    "calls_wpd = pd.read_csv('CallsWPDates.csv', low_memory=False)"
   ]
  },
  {
   "cell_type": "markdown",
   "metadata": {},
   "source": [
    "Join Crime Category"
   ]
  },
  {
   "cell_type": "code",
   "execution_count": 13,
   "metadata": {},
   "outputs": [],
   "source": [
    "crimes_wpd.set_index('Primary Offense Description').join(crimecat.set_index('CRIME_DESCRIPTION'))\n",
    "crimes_wpd.to_csv('crimes_for_pivot.csv')"
   ]
  },
  {
   "cell_type": "markdown",
   "metadata": {},
   "source": []
  },
  {
   "cell_type": "code",
   "execution_count": 25,
   "metadata": {},
   "outputs": [],
   "source": [
    "#crimes_wpd.set_index('Report Number')\n",
    "#crimes_wpd.groupby(['Occured Year','Occured Month', 'Occured Day','CRIME_GROUP']).count()\n",
    "crimes_4p = pd.read_csv('crimes_for_pivot.csv', low_memory = False)\n",
    "crimes_piv = crimes_4p.groupby(['Occured Year', 'Occured Month', 'Occured Day']).count().reset_index()\n",
    "calls_piv = calls_wpd.groupby(['OTC Year','OTC Day','OTC Month']).count().reset_index()"
   ]
  },
  {
   "cell_type": "code",
   "execution_count": 26,
   "metadata": {},
   "outputs": [
    {
     "data": {
      "text/html": [
       "<div>\n",
       "<style scoped>\n",
       "    .dataframe tbody tr th:only-of-type {\n",
       "        vertical-align: middle;\n",
       "    }\n",
       "\n",
       "    .dataframe tbody tr th {\n",
       "        vertical-align: top;\n",
       "    }\n",
       "\n",
       "    .dataframe thead th {\n",
       "        text-align: right;\n",
       "    }\n",
       "</style>\n",
       "<table border=\"1\" class=\"dataframe\">\n",
       "  <thead>\n",
       "    <tr style=\"text-align: right;\">\n",
       "      <th></th>\n",
       "      <th>OTC Year</th>\n",
       "      <th>OTC Day</th>\n",
       "      <th>OTC Month</th>\n",
       "      <th>Unnamed: 0</th>\n",
       "      <th>CAD Event Number</th>\n",
       "      <th>Event Clearance Description</th>\n",
       "      <th>Call Type</th>\n",
       "      <th>Priority</th>\n",
       "      <th>Initial Call Type</th>\n",
       "      <th>Final Call Type</th>\n",
       "      <th>Original Time Queued</th>\n",
       "      <th>Arrived Time</th>\n",
       "      <th>Precinct</th>\n",
       "      <th>Sector</th>\n",
       "      <th>Beat</th>\n",
       "    </tr>\n",
       "  </thead>\n",
       "  <tbody>\n",
       "    <tr>\n",
       "      <th>0</th>\n",
       "      <td>2009</td>\n",
       "      <td>1</td>\n",
       "      <td>7</td>\n",
       "      <td>1097</td>\n",
       "      <td>1097</td>\n",
       "      <td>1097</td>\n",
       "      <td>1097</td>\n",
       "      <td>1097</td>\n",
       "      <td>1097</td>\n",
       "      <td>1097</td>\n",
       "      <td>1097</td>\n",
       "      <td>1097</td>\n",
       "      <td>1097</td>\n",
       "      <td>1083</td>\n",
       "      <td>1097</td>\n",
       "    </tr>\n",
       "    <tr>\n",
       "      <th>1</th>\n",
       "      <td>2009</td>\n",
       "      <td>1</td>\n",
       "      <td>8</td>\n",
       "      <td>1196</td>\n",
       "      <td>1196</td>\n",
       "      <td>1196</td>\n",
       "      <td>1196</td>\n",
       "      <td>1196</td>\n",
       "      <td>1196</td>\n",
       "      <td>1196</td>\n",
       "      <td>1196</td>\n",
       "      <td>1196</td>\n",
       "      <td>1196</td>\n",
       "      <td>1184</td>\n",
       "      <td>1196</td>\n",
       "    </tr>\n",
       "    <tr>\n",
       "      <th>2</th>\n",
       "      <td>2009</td>\n",
       "      <td>1</td>\n",
       "      <td>9</td>\n",
       "      <td>1055</td>\n",
       "      <td>1055</td>\n",
       "      <td>1055</td>\n",
       "      <td>1055</td>\n",
       "      <td>1055</td>\n",
       "      <td>1055</td>\n",
       "      <td>1055</td>\n",
       "      <td>1055</td>\n",
       "      <td>1055</td>\n",
       "      <td>1055</td>\n",
       "      <td>1028</td>\n",
       "      <td>1055</td>\n",
       "    </tr>\n",
       "    <tr>\n",
       "      <th>3</th>\n",
       "      <td>2009</td>\n",
       "      <td>1</td>\n",
       "      <td>10</td>\n",
       "      <td>1082</td>\n",
       "      <td>1082</td>\n",
       "      <td>1082</td>\n",
       "      <td>1082</td>\n",
       "      <td>1082</td>\n",
       "      <td>1082</td>\n",
       "      <td>1082</td>\n",
       "      <td>1082</td>\n",
       "      <td>1082</td>\n",
       "      <td>1082</td>\n",
       "      <td>1063</td>\n",
       "      <td>1082</td>\n",
       "    </tr>\n",
       "    <tr>\n",
       "      <th>4</th>\n",
       "      <td>2009</td>\n",
       "      <td>1</td>\n",
       "      <td>11</td>\n",
       "      <td>776</td>\n",
       "      <td>776</td>\n",
       "      <td>776</td>\n",
       "      <td>776</td>\n",
       "      <td>776</td>\n",
       "      <td>776</td>\n",
       "      <td>776</td>\n",
       "      <td>776</td>\n",
       "      <td>776</td>\n",
       "      <td>776</td>\n",
       "      <td>764</td>\n",
       "      <td>776</td>\n",
       "    </tr>\n",
       "  </tbody>\n",
       "</table>\n",
       "</div>"
      ],
      "text/plain": [
       "   OTC Year  OTC Day  OTC Month  Unnamed: 0  CAD Event Number  \\\n",
       "0      2009        1          7        1097              1097   \n",
       "1      2009        1          8        1196              1196   \n",
       "2      2009        1          9        1055              1055   \n",
       "3      2009        1         10        1082              1082   \n",
       "4      2009        1         11         776               776   \n",
       "\n",
       "   Event Clearance Description  Call Type  Priority  Initial Call Type  \\\n",
       "0                         1097       1097      1097               1097   \n",
       "1                         1196       1196      1196               1196   \n",
       "2                         1055       1055      1055               1055   \n",
       "3                         1082       1082      1082               1082   \n",
       "4                          776        776       776                776   \n",
       "\n",
       "   Final Call Type  Original Time Queued  Arrived Time  Precinct  Sector  Beat  \n",
       "0             1097                  1097          1097      1097    1083  1097  \n",
       "1             1196                  1196          1196      1196    1184  1196  \n",
       "2             1055                  1055          1055      1055    1028  1055  \n",
       "3             1082                  1082          1082      1082    1063  1082  \n",
       "4              776                   776           776       776     764   776  "
      ]
     },
     "execution_count": 26,
     "metadata": {},
     "output_type": "execute_result"
    }
   ],
   "source": [
    "calls_piv.head()"
   ]
  }
 ],
 "metadata": {
  "kernelspec": {
   "display_name": "Python 3",
   "language": "python",
   "name": "python3"
  },
  "language_info": {
   "codemirror_mode": {
    "name": "ipython",
    "version": 3
   },
   "file_extension": ".py",
   "mimetype": "text/x-python",
   "name": "python",
   "nbconvert_exporter": "python",
   "pygments_lexer": "ipython3",
   "version": "3.6.5"
  }
 },
 "nbformat": 4,
 "nbformat_minor": 2
}
